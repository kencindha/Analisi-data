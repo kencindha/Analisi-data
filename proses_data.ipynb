{
 "cells": [
  {
   "cell_type": "markdown",
   "metadata": {},
   "source": [
    "# Masukan library"
   ]
  },
  {
   "cell_type": "code",
   "execution_count": 2,
   "metadata": {},
   "outputs": [],
   "source": [
    "import pandas as pd\n",
    "import math"
   ]
  },
  {
   "cell_type": "markdown",
   "metadata": {},
   "source": [
    "# Masukan data"
   ]
  },
  {
   "cell_type": "code",
   "execution_count": 3,
   "metadata": {},
   "outputs": [],
   "source": [
    "with open(\"result.txt\", \"r\") as file:\n",
    "    data = file.read()"
   ]
  },
  {
   "cell_type": "markdown",
   "metadata": {},
   "source": [
    "# Ubah data jadi tabel"
   ]
  },
  {
   "cell_type": "code",
   "execution_count": 4,
   "metadata": {},
   "outputs": [],
   "source": [
    "data_blocks = data.strip().split(\"===\")\n",
    "data_dicts = []"
   ]
  },
  {
   "cell_type": "code",
   "execution_count": 5,
   "metadata": {},
   "outputs": [],
   "source": [
    "for block in data_blocks:\n",
    "    data_entries = block.strip().split(\"\\n\")\n",
    "    data_entry = {}\n",
    "    for entry in data_entries:\n",
    "        parts = entry.split(\": \", 1)\n",
    "        if len(parts) == 2:\n",
    "            key, value = parts\n",
    "            data_entry[key] = value\n",
    "    if data_entry:\n",
    "        data_dicts.append(data_entry)"
   ]
  },
  {
   "cell_type": "markdown",
   "metadata": {},
   "source": [
    "# Jadikan DataFrame"
   ]
  },
  {
   "cell_type": "code",
   "execution_count": null,
   "metadata": {},
   "outputs": [
    {
     "name": "stdout",
     "output_type": "stream",
     "text": [
      "                          From Data Message Type Repeat Indicator       MMSI  \\\n",
      "0      17ldpHCP007UaLGtWerrOgvJ24ip            1                0  525023329   \n",
      "1      17lobWhP01WU<bctV5Lc5wvB20S7            1                0  525200031   \n",
      "2      17m:0fwP01WU7c=tW1?dNOvB2<5b            1                0  525500603   \n",
      "3      19NSAeh02MWS`satO0I1T1FF20S4            1                0  636015031   \n",
      "4      17liV9`P1KWTtj3tWC94JOvF2L3c            1                0  525100582   \n",
      "...                             ...          ...              ...        ...   \n",
      "23577  17ldIhhP01WU<4StUr?Gc?v:280A            1                0  525015491   \n",
      "23578  176w>502Ae7U>PotbhMCVBf80H3n            1                0  477089300   \n",
      "23579  17ldt9wP00WU=gqtVj9Mbgv:2H3g            1                0  525024295   \n",
      "23580  17mF?uOP01WUN8Ot`kAV@Ov820Rl            1                0  525701109   \n",
      "23581  17m:4:HP01WUdP1tWQUN4?v<2843            1                0  525501481   \n",
      "\n",
      "      Navigation Status Rate of Turn (ROT) Speed Over Ground  \\\n",
      "0                     3                128                 0   \n",
      "1                     0                128                 1   \n",
      "2                    15                128                 1   \n",
      "3                     0                  0               157   \n",
      "4                     0                  5               743   \n",
      "...                 ...                ...               ...   \n",
      "23577                 0                128                 1   \n",
      "23578                 0                  9               109   \n",
      "23579                15                128                 0   \n",
      "23580                15                128                 1   \n",
      "23581                 8                128                 1   \n",
      "\n",
      "      Position Accuracy           Longitude             Latitude  \\\n",
      "0                     0          106.091325            -5.905955   \n",
      "1                     1  105.99310166666666             -5.95053   \n",
      "2                     1  105.97606333333333   -5.925016666666667   \n",
      "3                     1  105.71658333333333    54.18710333333333   \n",
      "4                     1            69.20213            68.680135   \n",
      "...                 ...                 ...                  ...   \n",
      "23577                 1  105.99106833333333   -5.955311666666667   \n",
      "23578                 0          105.999405  -5.8229516666666665   \n",
      "23579                 1  105.99679333333333  -5.9314583333333335   \n",
      "23580                 1  106.05271833333333  -5.5903583333333335   \n",
      "23581                 1           106.10176   -5.911218333333333   \n",
      "\n",
      "      Course Over Ground True Heading Time Stamp Manuver Indicator Spare  \\\n",
      "0                 -141.0          511         13                 0     0   \n",
      "1                 -125.7          511          9                 0     0   \n",
      "2                  -90.3          511          9                 0     0   \n",
      "3                  102.9          203          1                 0     0   \n",
      "4                 -140.9          459          1                 0     7   \n",
      "...                  ...          ...        ...               ...   ...   \n",
      "23577              196.4          511          5                 0     0   \n",
      "23578               92.1           87          4                 0     0   \n",
      "23579              -59.8          511          5                 0     0   \n",
      "23580               12.7          452          1                 0     0   \n",
      "23581              -49.6          511          6                 0     0   \n",
      "\n",
      "      RAIM Flag Radio Status  \n",
      "0             1        19576  \n",
      "1             1         2247  \n",
      "2             1        49514  \n",
      "3             0         2244  \n",
      "4             0          235  \n",
      "...         ...          ...  \n",
      "23577         1        32785  \n",
      "23578         0        98550  \n",
      "23579         1        98543  \n",
      "23580         0         2228  \n",
      "23581         1        33027  \n",
      "\n",
      "[23582 rows x 17 columns]\n"
     ]
    }
   ],
   "source": [
    "bro = pd.DataFrame(data_dicts)\n",
    "print(df)"
   ]
  },
  {
   "cell_type": "markdown",
   "metadata": {},
   "source": [
    "# Ambil data yang dibutuhkan "
   ]
  },
  {
   "cell_type": "code",
   "execution_count": 7,
   "metadata": {},
   "outputs": [
    {
     "name": "stdout",
     "output_type": "stream",
     "text": [
      "      Navigation Status       MMSI           Longitude             Latitude\n",
      "0                     3  525023329          106.091325            -5.905955\n",
      "1                     0  525200031  105.99310166666666             -5.95053\n",
      "2                    15  525500603  105.97606333333333   -5.925016666666667\n",
      "3                     0  636015031  105.71658333333333    54.18710333333333\n",
      "4                     0  525100582            69.20213            68.680135\n",
      "...                 ...        ...                 ...                  ...\n",
      "23577                 0  525015491  105.99106833333333   -5.955311666666667\n",
      "23578                 0  477089300          105.999405  -5.8229516666666665\n",
      "23579                15  525024295  105.99679333333333  -5.9314583333333335\n",
      "23580                15  525701109  106.05271833333333  -5.5903583333333335\n",
      "23581                 8  525501481           106.10176   -5.911218333333333\n",
      "\n",
      "[23582 rows x 4 columns]\n"
     ]
    }
   ],
   "source": [
    "data_ais = df[['Navigation Status', 'MMSI', 'Longitude', 'Latitude']]\n",
    "print(data_ais)"
   ]
  },
  {
   "cell_type": "code",
   "execution_count": 8,
   "metadata": {},
   "outputs": [
    {
     "name": "stdout",
     "output_type": "stream",
     "text": [
      "      Navigation Status       MMSI           Longitude             Latitude\n",
      "0                     3  525023329          106.091325            -5.905955\n",
      "1                     0  525200031  105.99310166666666             -5.95053\n",
      "2                    15  525500603  105.97606333333333   -5.925016666666667\n",
      "3                     0  636015031  105.71658333333333    54.18710333333333\n",
      "4                     0  525100582            69.20213            68.680135\n",
      "...                 ...        ...                 ...                  ...\n",
      "23577                 0  525015491  105.99106833333333   -5.955311666666667\n",
      "23578                 0  477089300          105.999405  -5.8229516666666665\n",
      "23579                15  525024295  105.99679333333333  -5.9314583333333335\n",
      "23580                15  525701109  106.05271833333333  -5.5903583333333335\n",
      "23581                 8  525501481           106.10176   -5.911218333333333\n",
      "\n",
      "[23582 rows x 4 columns]\n"
     ]
    }
   ],
   "source": [
    "df = pd.DataFrame(data_ais)\n",
    "print(df)"
   ]
  },
  {
   "cell_type": "markdown",
   "metadata": {},
   "source": [
    "# Simpan dalam excel"
   ]
  },
  {
   "cell_type": "code",
   "execution_count": 9,
   "metadata": {},
   "outputs": [],
   "source": [
    "data_ais.to_excel('bro_decode.xlsx', index=False)"
   ]
  },
  {
   "cell_type": "markdown",
   "metadata": {},
   "source": [
    "# Masukan data"
   ]
  },
  {
   "cell_type": "code",
   "execution_count": 18,
   "metadata": {},
   "outputs": [
    {
     "name": "stdout",
     "output_type": "stream",
     "text": [
      "                      created_at  Navigation Status       MMSI   Longitude  \\\n",
      "0      2024-08-09 13:30:14+00:00                  3  525023329  106.091325   \n",
      "1      2024-08-09 13:30:14+00:00                  0  525200031  105.993102   \n",
      "2      2024-08-09 13:30:14+00:00                 15  525500603  105.976063   \n",
      "3      2024-08-09 13:30:14+00:00                  0  636015031  105.716583   \n",
      "4      2024-08-09 13:30:14+00:00                  0  525100582   69.202130   \n",
      "...                          ...                ...        ...         ...   \n",
      "23577  2024-08-12 09:31:36+00:00                  0  525015491  105.991068   \n",
      "23578  2024-08-12 09:31:36+00:00                  0  477089300  105.999405   \n",
      "23579  2024-08-12 09:31:36+00:00                 15  525024295  105.996793   \n",
      "23580  2024-08-12 09:31:38+00:00                 15  525701109  106.052718   \n",
      "23581  2024-08-12 09:31:38+00:00                  8  525501481  106.101760   \n",
      "\n",
      "        Latitude  \n",
      "0      -5.905955  \n",
      "1      -5.950530  \n",
      "2      -5.925017  \n",
      "3      54.187103  \n",
      "4      68.680135  \n",
      "...          ...  \n",
      "23577  -5.955312  \n",
      "23578  -5.822952  \n",
      "23579  -5.931458  \n",
      "23580  -5.590358  \n",
      "23581  -5.911218  \n",
      "\n",
      "[23582 rows x 5 columns]\n"
     ]
    }
   ],
   "source": [
    "bro = pd.read_excel('bro_decode.xlsx')\n",
    "print(bro)"
   ]
  },
  {
   "cell_type": "markdown",
   "metadata": {},
   "source": [
    "# Menentukan jumlah duplikat"
   ]
  },
  {
   "cell_type": "code",
   "execution_count": 19,
   "metadata": {},
   "outputs": [
    {
     "name": "stdout",
     "output_type": "stream",
     "text": [
      "0\n"
     ]
    }
   ],
   "source": [
    "jumlah_duplikat = bro.duplicated().sum()\n",
    "print(jumlah_duplikat)"
   ]
  },
  {
   "cell_type": "code",
   "execution_count": 20,
   "metadata": {},
   "outputs": [
    {
     "name": "stdout",
     "output_type": "stream",
     "text": [
      "Empty DataFrame\n",
      "Columns: [created_at, Navigation Status, MMSI, Longitude, Latitude]\n",
      "Index: []\n"
     ]
    }
   ],
   "source": [
    "tampilkan_duplikat = bro[bro.duplicated()]\n",
    "if not tampilkan_duplikat.empty:\n",
    "    print(\"\\nData Duplikat:\")\n",
    "print(tampilkan_duplikat)"
   ]
  },
  {
   "cell_type": "code",
   "execution_count": 21,
   "metadata": {},
   "outputs": [
    {
     "name": "stdout",
     "output_type": "stream",
     "text": [
      "                      created_at  Navigation Status       MMSI   Longitude  \\\n",
      "0      2024-08-09 13:30:14+00:00                  3  525023329  106.091325   \n",
      "1      2024-08-09 13:30:14+00:00                  0  525200031  105.993102   \n",
      "2      2024-08-09 13:30:14+00:00                 15  525500603  105.976063   \n",
      "3      2024-08-09 13:30:14+00:00                  0  636015031  105.716583   \n",
      "4      2024-08-09 13:30:14+00:00                  0  525100582   69.202130   \n",
      "...                          ...                ...        ...         ...   \n",
      "23577  2024-08-12 09:31:36+00:00                  0  525015491  105.991068   \n",
      "23578  2024-08-12 09:31:36+00:00                  0  477089300  105.999405   \n",
      "23579  2024-08-12 09:31:36+00:00                 15  525024295  105.996793   \n",
      "23580  2024-08-12 09:31:38+00:00                 15  525701109  106.052718   \n",
      "23581  2024-08-12 09:31:38+00:00                  8  525501481  106.101760   \n",
      "\n",
      "        Latitude  \n",
      "0      -5.905955  \n",
      "1      -5.950530  \n",
      "2      -5.925017  \n",
      "3      54.187103  \n",
      "4      68.680135  \n",
      "...          ...  \n",
      "23577  -5.955312  \n",
      "23578  -5.822952  \n",
      "23579  -5.931458  \n",
      "23580  -5.590358  \n",
      "23581  -5.911218  \n",
      "\n",
      "[23582 rows x 5 columns]\n"
     ]
    }
   ],
   "source": [
    "hapus = bro.drop_duplicates()\n",
    "print(hapus)"
   ]
  },
  {
   "cell_type": "markdown",
   "metadata": {},
   "source": [
    "# Jadikan DataFrame"
   ]
  },
  {
   "cell_type": "code",
   "execution_count": 22,
   "metadata": {},
   "outputs": [
    {
     "name": "stdout",
     "output_type": "stream",
     "text": [
      "                      created_at  Navigation Status       MMSI   Longitude  \\\n",
      "0      2024-08-09 13:30:14+00:00                  3  525023329  106.091325   \n",
      "1      2024-08-09 13:30:14+00:00                  0  525200031  105.993102   \n",
      "2      2024-08-09 13:30:14+00:00                 15  525500603  105.976063   \n",
      "3      2024-08-09 13:30:14+00:00                  0  636015031  105.716583   \n",
      "4      2024-08-09 13:30:14+00:00                  0  525100582   69.202130   \n",
      "...                          ...                ...        ...         ...   \n",
      "23577  2024-08-12 09:31:36+00:00                  0  525015491  105.991068   \n",
      "23578  2024-08-12 09:31:36+00:00                  0  477089300  105.999405   \n",
      "23579  2024-08-12 09:31:36+00:00                 15  525024295  105.996793   \n",
      "23580  2024-08-12 09:31:38+00:00                 15  525701109  106.052718   \n",
      "23581  2024-08-12 09:31:38+00:00                  8  525501481  106.101760   \n",
      "\n",
      "        Latitude  \n",
      "0      -5.905955  \n",
      "1      -5.950530  \n",
      "2      -5.925017  \n",
      "3      54.187103  \n",
      "4      68.680135  \n",
      "...          ...  \n",
      "23577  -5.955312  \n",
      "23578  -5.822952  \n",
      "23579  -5.931458  \n",
      "23580  -5.590358  \n",
      "23581  -5.911218  \n",
      "\n",
      "[23582 rows x 5 columns]\n"
     ]
    }
   ],
   "source": [
    "bro = pd.DataFrame(hapus)\n",
    "print(bro)"
   ]
  },
  {
   "cell_type": "markdown",
   "metadata": {},
   "source": [
    "# Membagi berdasarkan tanggal"
   ]
  },
  {
   "cell_type": "code",
   "execution_count": 25,
   "metadata": {},
   "outputs": [],
   "source": [
    "bro['created_at'] = pd.to_datetime(bro['created_at'], errors='coerce')"
   ]
  },
  {
   "cell_type": "code",
   "execution_count": 26,
   "metadata": {},
   "outputs": [],
   "source": [
    "bro = bro.dropna(subset=['created_at'])"
   ]
  },
  {
   "cell_type": "code",
   "execution_count": 27,
   "metadata": {},
   "outputs": [],
   "source": [
    "unique_dates = bro['created_at'].dt.date.unique()"
   ]
  },
  {
   "cell_type": "code",
   "execution_count": 28,
   "metadata": {},
   "outputs": [
    {
     "name": "stdout",
     "output_type": "stream",
     "text": [
      "Data 2024-08-09 save data_2024-08-09.xlsx\n",
      "Data 2024-08-10 save data_2024-08-10.xlsx\n",
      "Data 2024-08-11 save data_2024-08-11.xlsx\n",
      "Data 2024-08-12 save data_2024-08-12.xlsx\n",
      "selesai\n"
     ]
    }
   ],
   "source": [
    "for date in unique_dates:\n",
    "    bro_perhari = bro[bro['created_at'].dt.date == date]\n",
    "    filename = f'data_{date}.xlsx'\n",
    "    bro_perhari.to_excel(filename, index=False)\n",
    "    print(f\"Data {date} save {filename}\")\n",
    "print(\"selesai\")"
   ]
  },
  {
   "cell_type": "code",
   "execution_count": null,
   "metadata": {},
   "outputs": [],
   "source": []
  }
 ],
 "metadata": {
  "kernelspec": {
   "display_name": "Python 3",
   "language": "python",
   "name": "python3"
  },
  "language_info": {
   "codemirror_mode": {
    "name": "ipython",
    "version": 3
   },
   "file_extension": ".py",
   "mimetype": "text/x-python",
   "name": "python",
   "nbconvert_exporter": "python",
   "pygments_lexer": "ipython3",
   "version": "3.12.3"
  }
 },
 "nbformat": 4,
 "nbformat_minor": 2
}
